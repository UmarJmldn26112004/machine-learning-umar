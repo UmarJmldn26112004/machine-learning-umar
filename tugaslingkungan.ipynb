{
  "nbformat": 4,
  "nbformat_minor": 0,
  "metadata": {
    "colab": {
      "provenance": []
    },
    "kernelspec": {
      "name": "python3",
      "display_name": "Python 3"
    },
    "language_info": {
      "name": "python"
    }
  },
  "cells": [
    {
      "cell_type": "code",
      "execution_count": 8,
      "metadata": {
        "id": "pklKxqx_2Of8",
        "colab": {
          "base_uri": "https://localhost:8080/"
        },
        "outputId": "91223695-99a0-42fb-db92-194122faac7b"
      },
      "outputs": [
        {
          "output_type": "stream",
          "name": "stdout",
          "text": [
            "Drive already mounted at /content/drive; to attempt to forcibly remount, call drive.mount(\"/content/drive\", force_remount=True).\n"
          ]
        }
      ],
      "source": [
        "import pandas as pd\n",
        "from google. colab import drive #memanggil package import drive\n",
        "drive.mount('/content/drive')"
      ]
    },
    {
      "cell_type": "code",
      "source": [
        "path ='/content/drive/MyDrive/CSV/lingkungansejahtera - Sheet5.csv'\n",
        "\n",
        "df = pd.read_csv(path)\n",
        "df.describe()"
      ],
      "metadata": {
        "colab": {
          "base_uri": "https://localhost:8080/",
          "height": 300
        },
        "id": "ufjlzqLOwqca",
        "outputId": "b0282cda-9bb0-4b2f-c0e9-9fe3196fd317"
      },
      "execution_count": 28,
      "outputs": [
        {
          "output_type": "execute_result",
          "data": {
            "text/plain": [
              "            pm10        so2         co         o3        no2           max\n",
              "count  26.000000  26.000000  26.000000  26.000000  26.000000  2.600000e+01\n",
              "mean   38.192308   8.115385  23.153846  30.461538  18.000000  4.574038e+06\n",
              "std    11.052671   3.302447  10.375711  11.648968  14.669697  4.222088e+06\n",
              "min    19.000000   4.000000   5.000000  17.000000   2.000000  3.750000e+05\n",
              "25%    29.250000   6.250000  16.000000  23.500000   6.250000  1.312500e+06\n",
              "50%    38.000000   8.000000  24.000000  27.500000  13.500000  3.475000e+06\n",
              "75%    46.500000   8.750000  26.750000  31.750000  25.250000  6.250000e+06\n",
              "max    60.000000  19.000000  51.000000  68.000000  52.000000  1.470000e+07"
            ],
            "text/html": [
              "\n",
              "  <div id=\"df-e9686fe5-9066-4ce0-b56c-42f4e85f4d5d\">\n",
              "    <div class=\"colab-df-container\">\n",
              "      <div>\n",
              "<style scoped>\n",
              "    .dataframe tbody tr th:only-of-type {\n",
              "        vertical-align: middle;\n",
              "    }\n",
              "\n",
              "    .dataframe tbody tr th {\n",
              "        vertical-align: top;\n",
              "    }\n",
              "\n",
              "    .dataframe thead th {\n",
              "        text-align: right;\n",
              "    }\n",
              "</style>\n",
              "<table border=\"1\" class=\"dataframe\">\n",
              "  <thead>\n",
              "    <tr style=\"text-align: right;\">\n",
              "      <th></th>\n",
              "      <th>pm10</th>\n",
              "      <th>so2</th>\n",
              "      <th>co</th>\n",
              "      <th>o3</th>\n",
              "      <th>no2</th>\n",
              "      <th>max</th>\n",
              "    </tr>\n",
              "  </thead>\n",
              "  <tbody>\n",
              "    <tr>\n",
              "      <th>count</th>\n",
              "      <td>26.000000</td>\n",
              "      <td>26.000000</td>\n",
              "      <td>26.000000</td>\n",
              "      <td>26.000000</td>\n",
              "      <td>26.000000</td>\n",
              "      <td>2.600000e+01</td>\n",
              "    </tr>\n",
              "    <tr>\n",
              "      <th>mean</th>\n",
              "      <td>38.192308</td>\n",
              "      <td>8.115385</td>\n",
              "      <td>23.153846</td>\n",
              "      <td>30.461538</td>\n",
              "      <td>18.000000</td>\n",
              "      <td>4.574038e+06</td>\n",
              "    </tr>\n",
              "    <tr>\n",
              "      <th>std</th>\n",
              "      <td>11.052671</td>\n",
              "      <td>3.302447</td>\n",
              "      <td>10.375711</td>\n",
              "      <td>11.648968</td>\n",
              "      <td>14.669697</td>\n",
              "      <td>4.222088e+06</td>\n",
              "    </tr>\n",
              "    <tr>\n",
              "      <th>min</th>\n",
              "      <td>19.000000</td>\n",
              "      <td>4.000000</td>\n",
              "      <td>5.000000</td>\n",
              "      <td>17.000000</td>\n",
              "      <td>2.000000</td>\n",
              "      <td>3.750000e+05</td>\n",
              "    </tr>\n",
              "    <tr>\n",
              "      <th>25%</th>\n",
              "      <td>29.250000</td>\n",
              "      <td>6.250000</td>\n",
              "      <td>16.000000</td>\n",
              "      <td>23.500000</td>\n",
              "      <td>6.250000</td>\n",
              "      <td>1.312500e+06</td>\n",
              "    </tr>\n",
              "    <tr>\n",
              "      <th>50%</th>\n",
              "      <td>38.000000</td>\n",
              "      <td>8.000000</td>\n",
              "      <td>24.000000</td>\n",
              "      <td>27.500000</td>\n",
              "      <td>13.500000</td>\n",
              "      <td>3.475000e+06</td>\n",
              "    </tr>\n",
              "    <tr>\n",
              "      <th>75%</th>\n",
              "      <td>46.500000</td>\n",
              "      <td>8.750000</td>\n",
              "      <td>26.750000</td>\n",
              "      <td>31.750000</td>\n",
              "      <td>25.250000</td>\n",
              "      <td>6.250000e+06</td>\n",
              "    </tr>\n",
              "    <tr>\n",
              "      <th>max</th>\n",
              "      <td>60.000000</td>\n",
              "      <td>19.000000</td>\n",
              "      <td>51.000000</td>\n",
              "      <td>68.000000</td>\n",
              "      <td>52.000000</td>\n",
              "      <td>1.470000e+07</td>\n",
              "    </tr>\n",
              "  </tbody>\n",
              "</table>\n",
              "</div>\n",
              "      <button class=\"colab-df-convert\" onclick=\"convertToInteractive('df-e9686fe5-9066-4ce0-b56c-42f4e85f4d5d')\"\n",
              "              title=\"Convert this dataframe to an interactive table.\"\n",
              "              style=\"display:none;\">\n",
              "        \n",
              "  <svg xmlns=\"http://www.w3.org/2000/svg\" height=\"24px\"viewBox=\"0 0 24 24\"\n",
              "       width=\"24px\">\n",
              "    <path d=\"M0 0h24v24H0V0z\" fill=\"none\"/>\n",
              "    <path d=\"M18.56 5.44l.94 2.06.94-2.06 2.06-.94-2.06-.94-.94-2.06-.94 2.06-2.06.94zm-11 1L8.5 8.5l.94-2.06 2.06-.94-2.06-.94L8.5 2.5l-.94 2.06-2.06.94zm10 10l.94 2.06.94-2.06 2.06-.94-2.06-.94-.94-2.06-.94 2.06-2.06.94z\"/><path d=\"M17.41 7.96l-1.37-1.37c-.4-.4-.92-.59-1.43-.59-.52 0-1.04.2-1.43.59L10.3 9.45l-7.72 7.72c-.78.78-.78 2.05 0 2.83L4 21.41c.39.39.9.59 1.41.59.51 0 1.02-.2 1.41-.59l7.78-7.78 2.81-2.81c.8-.78.8-2.07 0-2.86zM5.41 20L4 18.59l7.72-7.72 1.47 1.35L5.41 20z\"/>\n",
              "  </svg>\n",
              "      </button>\n",
              "      \n",
              "  <style>\n",
              "    .colab-df-container {\n",
              "      display:flex;\n",
              "      flex-wrap:wrap;\n",
              "      gap: 12px;\n",
              "    }\n",
              "\n",
              "    .colab-df-convert {\n",
              "      background-color: #E8F0FE;\n",
              "      border: none;\n",
              "      border-radius: 50%;\n",
              "      cursor: pointer;\n",
              "      display: none;\n",
              "      fill: #1967D2;\n",
              "      height: 32px;\n",
              "      padding: 0 0 0 0;\n",
              "      width: 32px;\n",
              "    }\n",
              "\n",
              "    .colab-df-convert:hover {\n",
              "      background-color: #E2EBFA;\n",
              "      box-shadow: 0px 1px 2px rgba(60, 64, 67, 0.3), 0px 1px 3px 1px rgba(60, 64, 67, 0.15);\n",
              "      fill: #174EA6;\n",
              "    }\n",
              "\n",
              "    [theme=dark] .colab-df-convert {\n",
              "      background-color: #3B4455;\n",
              "      fill: #D2E3FC;\n",
              "    }\n",
              "\n",
              "    [theme=dark] .colab-df-convert:hover {\n",
              "      background-color: #434B5C;\n",
              "      box-shadow: 0px 1px 3px 1px rgba(0, 0, 0, 0.15);\n",
              "      filter: drop-shadow(0px 1px 2px rgba(0, 0, 0, 0.3));\n",
              "      fill: #FFFFFF;\n",
              "    }\n",
              "  </style>\n",
              "\n",
              "      <script>\n",
              "        const buttonEl =\n",
              "          document.querySelector('#df-e9686fe5-9066-4ce0-b56c-42f4e85f4d5d button.colab-df-convert');\n",
              "        buttonEl.style.display =\n",
              "          google.colab.kernel.accessAllowed ? 'block' : 'none';\n",
              "\n",
              "        async function convertToInteractive(key) {\n",
              "          const element = document.querySelector('#df-e9686fe5-9066-4ce0-b56c-42f4e85f4d5d');\n",
              "          const dataTable =\n",
              "            await google.colab.kernel.invokeFunction('convertToInteractive',\n",
              "                                                     [key], {});\n",
              "          if (!dataTable) return;\n",
              "\n",
              "          const docLinkHtml = 'Like what you see? Visit the ' +\n",
              "            '<a target=\"_blank\" href=https://colab.research.google.com/notebooks/data_table.ipynb>data table notebook</a>'\n",
              "            + ' to learn more about interactive tables.';\n",
              "          element.innerHTML = '';\n",
              "          dataTable['output_type'] = 'display_data';\n",
              "          await google.colab.output.renderOutput(dataTable, element);\n",
              "          const docLink = document.createElement('div');\n",
              "          docLink.innerHTML = docLinkHtml;\n",
              "          element.appendChild(docLink);\n",
              "        }\n",
              "      </script>\n",
              "    </div>\n",
              "  </div>\n",
              "  "
            ]
          },
          "metadata": {},
          "execution_count": 28
        }
      ]
    },
    {
      "cell_type": "code",
      "source": [
        "df"
      ],
      "metadata": {
        "colab": {
          "base_uri": "https://localhost:8080/",
          "height": 865
        },
        "id": "wMc6qpJjw4fF",
        "outputId": "c94136d2-6109-43e8-cd7b-c305f71ce506"
      },
      "execution_count": 29,
      "outputs": [
        {
          "output_type": "execute_result",
          "data": {
            "text/plain": [
              "       tanggal             stasiun  pm10  so2  co  o3  no2       max critical  \\\n",
              "0   2020-02-01  DKI1 (Bunderan HI)    29    8  19  27    3    750000     PM10   \n",
              "1   2020-02-02  DKI1 (Bunderan HI)    37   10  24  28    8   1200000     PM10   \n",
              "2   2020-02-03  DKI1 (Bunderan HI)    39    8  37  19    3    450000     PM10   \n",
              "3   2020-02-04  DKI1 (Bunderan HI)    24    8  29  21    5    375000       CO   \n",
              "4   2020-02-05  DKI1 (Bunderan HI)    43    8  30  29   35   8750000     PM10   \n",
              "5   2020-02-06  DKI1 (Bunderan HI)    50    9  26  32   42  14700000     PM10   \n",
              "6   2020-02-07  DKI1 (Bunderan HI)    51   19  28  25   18   4500000     PM10   \n",
              "7   2020-02-08  DKI1 (Bunderan HI)    29    8  24  26   14   3500000     PM10   \n",
              "8   2020-02-09  DKI1 (Bunderan HI)    35    7  18  33   23   3450000     PM10   \n",
              "9   2020-02-10  DKI1 (Bunderan HI)    38    8  25  51   13   1950000       O3   \n",
              "10  2020-02-11  DKI1 (Bunderan HI)    53    9  24  31   16   2400000     PM10   \n",
              "11  2020-02-12  DKI1 (Bunderan HI)    47   10  18  68   18   3600000       O3   \n",
              "12  2020-02-13  DKI1 (Bunderan HI)    43    7  16  39   44  11000000     PM10   \n",
              "13  2020-02-14  DKI1 (Bunderan HI)    51    6  25  21   22   5500000     PM10   \n",
              "14  2020-02-15  DKI1 (Bunderan HI)    60    7  51  53   44  11000000     PM10   \n",
              "15  2020-02-16  DKI1 (Bunderan HI)    52    7  24  41    7   5250000     PM10   \n",
              "16  2020-02-17  DKI1 (Bunderan HI)    24    5  18  28    5    750000       O3   \n",
              "17  2020-02-18  DKI1 (Bunderan HI)    45   16  48  23    8   2000000       CO   \n",
              "18  2020-02-19  DKI1 (Bunderan HI)    38    8  27  17   11   3850000     PM10   \n",
              "19  2020-02-20  DKI1 (Bunderan HI)    30    5  16  20    6   2100000     PM10   \n",
              "20  2020-02-21  DKI1 (Bunderan HI)    35   11  15  22   52  13000000     PM10   \n",
              "21  2020-02-22  DKI1 (Bunderan HI)    31    8  16  30   27   9450000     PM10   \n",
              "22  2020-02-23  DKI1 (Bunderan HI)    28    5   5  29   26   6500000       O3   \n",
              "23  2020-02-24  DKI1 (Bunderan HI)    20    4  10  27   11   1650000       O3   \n",
              "24  2020-02-25  DKI1 (Bunderan HI)    19    5  14  25    5    750000       O3   \n",
              "25  2020-02-26  DKI1 (Bunderan HI)    42    5  15  27    2    500000     PM10   \n",
              "\n",
              "   categori  \n",
              "0      BAIK  \n",
              "1      BAIK  \n",
              "2      BAIK  \n",
              "3      BAIK  \n",
              "4      BAIK  \n",
              "5      BAIK  \n",
              "6    SEDANG  \n",
              "7      BAIK  \n",
              "8      BAIK  \n",
              "9    SEDANG  \n",
              "10   SEDANG  \n",
              "11   SEDANG  \n",
              "12     BAIK  \n",
              "13   SEDANG  \n",
              "14   SEDANG  \n",
              "15   SEDANG  \n",
              "16     BAIK  \n",
              "17     BAIK  \n",
              "18     BAIK  \n",
              "19     BAIK  \n",
              "20     BAIK  \n",
              "21     BAIK  \n",
              "22     BAIK  \n",
              "23     BAIK  \n",
              "24     BAIK  \n",
              "25     BAIK  "
            ],
            "text/html": [
              "\n",
              "  <div id=\"df-e4e00f42-b177-4a56-a8e5-6b497939f8bd\">\n",
              "    <div class=\"colab-df-container\">\n",
              "      <div>\n",
              "<style scoped>\n",
              "    .dataframe tbody tr th:only-of-type {\n",
              "        vertical-align: middle;\n",
              "    }\n",
              "\n",
              "    .dataframe tbody tr th {\n",
              "        vertical-align: top;\n",
              "    }\n",
              "\n",
              "    .dataframe thead th {\n",
              "        text-align: right;\n",
              "    }\n",
              "</style>\n",
              "<table border=\"1\" class=\"dataframe\">\n",
              "  <thead>\n",
              "    <tr style=\"text-align: right;\">\n",
              "      <th></th>\n",
              "      <th>tanggal</th>\n",
              "      <th>stasiun</th>\n",
              "      <th>pm10</th>\n",
              "      <th>so2</th>\n",
              "      <th>co</th>\n",
              "      <th>o3</th>\n",
              "      <th>no2</th>\n",
              "      <th>max</th>\n",
              "      <th>critical</th>\n",
              "      <th>categori</th>\n",
              "    </tr>\n",
              "  </thead>\n",
              "  <tbody>\n",
              "    <tr>\n",
              "      <th>0</th>\n",
              "      <td>2020-02-01</td>\n",
              "      <td>DKI1 (Bunderan HI)</td>\n",
              "      <td>29</td>\n",
              "      <td>8</td>\n",
              "      <td>19</td>\n",
              "      <td>27</td>\n",
              "      <td>3</td>\n",
              "      <td>750000</td>\n",
              "      <td>PM10</td>\n",
              "      <td>BAIK</td>\n",
              "    </tr>\n",
              "    <tr>\n",
              "      <th>1</th>\n",
              "      <td>2020-02-02</td>\n",
              "      <td>DKI1 (Bunderan HI)</td>\n",
              "      <td>37</td>\n",
              "      <td>10</td>\n",
              "      <td>24</td>\n",
              "      <td>28</td>\n",
              "      <td>8</td>\n",
              "      <td>1200000</td>\n",
              "      <td>PM10</td>\n",
              "      <td>BAIK</td>\n",
              "    </tr>\n",
              "    <tr>\n",
              "      <th>2</th>\n",
              "      <td>2020-02-03</td>\n",
              "      <td>DKI1 (Bunderan HI)</td>\n",
              "      <td>39</td>\n",
              "      <td>8</td>\n",
              "      <td>37</td>\n",
              "      <td>19</td>\n",
              "      <td>3</td>\n",
              "      <td>450000</td>\n",
              "      <td>PM10</td>\n",
              "      <td>BAIK</td>\n",
              "    </tr>\n",
              "    <tr>\n",
              "      <th>3</th>\n",
              "      <td>2020-02-04</td>\n",
              "      <td>DKI1 (Bunderan HI)</td>\n",
              "      <td>24</td>\n",
              "      <td>8</td>\n",
              "      <td>29</td>\n",
              "      <td>21</td>\n",
              "      <td>5</td>\n",
              "      <td>375000</td>\n",
              "      <td>CO</td>\n",
              "      <td>BAIK</td>\n",
              "    </tr>\n",
              "    <tr>\n",
              "      <th>4</th>\n",
              "      <td>2020-02-05</td>\n",
              "      <td>DKI1 (Bunderan HI)</td>\n",
              "      <td>43</td>\n",
              "      <td>8</td>\n",
              "      <td>30</td>\n",
              "      <td>29</td>\n",
              "      <td>35</td>\n",
              "      <td>8750000</td>\n",
              "      <td>PM10</td>\n",
              "      <td>BAIK</td>\n",
              "    </tr>\n",
              "    <tr>\n",
              "      <th>5</th>\n",
              "      <td>2020-02-06</td>\n",
              "      <td>DKI1 (Bunderan HI)</td>\n",
              "      <td>50</td>\n",
              "      <td>9</td>\n",
              "      <td>26</td>\n",
              "      <td>32</td>\n",
              "      <td>42</td>\n",
              "      <td>14700000</td>\n",
              "      <td>PM10</td>\n",
              "      <td>BAIK</td>\n",
              "    </tr>\n",
              "    <tr>\n",
              "      <th>6</th>\n",
              "      <td>2020-02-07</td>\n",
              "      <td>DKI1 (Bunderan HI)</td>\n",
              "      <td>51</td>\n",
              "      <td>19</td>\n",
              "      <td>28</td>\n",
              "      <td>25</td>\n",
              "      <td>18</td>\n",
              "      <td>4500000</td>\n",
              "      <td>PM10</td>\n",
              "      <td>SEDANG</td>\n",
              "    </tr>\n",
              "    <tr>\n",
              "      <th>7</th>\n",
              "      <td>2020-02-08</td>\n",
              "      <td>DKI1 (Bunderan HI)</td>\n",
              "      <td>29</td>\n",
              "      <td>8</td>\n",
              "      <td>24</td>\n",
              "      <td>26</td>\n",
              "      <td>14</td>\n",
              "      <td>3500000</td>\n",
              "      <td>PM10</td>\n",
              "      <td>BAIK</td>\n",
              "    </tr>\n",
              "    <tr>\n",
              "      <th>8</th>\n",
              "      <td>2020-02-09</td>\n",
              "      <td>DKI1 (Bunderan HI)</td>\n",
              "      <td>35</td>\n",
              "      <td>7</td>\n",
              "      <td>18</td>\n",
              "      <td>33</td>\n",
              "      <td>23</td>\n",
              "      <td>3450000</td>\n",
              "      <td>PM10</td>\n",
              "      <td>BAIK</td>\n",
              "    </tr>\n",
              "    <tr>\n",
              "      <th>9</th>\n",
              "      <td>2020-02-10</td>\n",
              "      <td>DKI1 (Bunderan HI)</td>\n",
              "      <td>38</td>\n",
              "      <td>8</td>\n",
              "      <td>25</td>\n",
              "      <td>51</td>\n",
              "      <td>13</td>\n",
              "      <td>1950000</td>\n",
              "      <td>O3</td>\n",
              "      <td>SEDANG</td>\n",
              "    </tr>\n",
              "    <tr>\n",
              "      <th>10</th>\n",
              "      <td>2020-02-11</td>\n",
              "      <td>DKI1 (Bunderan HI)</td>\n",
              "      <td>53</td>\n",
              "      <td>9</td>\n",
              "      <td>24</td>\n",
              "      <td>31</td>\n",
              "      <td>16</td>\n",
              "      <td>2400000</td>\n",
              "      <td>PM10</td>\n",
              "      <td>SEDANG</td>\n",
              "    </tr>\n",
              "    <tr>\n",
              "      <th>11</th>\n",
              "      <td>2020-02-12</td>\n",
              "      <td>DKI1 (Bunderan HI)</td>\n",
              "      <td>47</td>\n",
              "      <td>10</td>\n",
              "      <td>18</td>\n",
              "      <td>68</td>\n",
              "      <td>18</td>\n",
              "      <td>3600000</td>\n",
              "      <td>O3</td>\n",
              "      <td>SEDANG</td>\n",
              "    </tr>\n",
              "    <tr>\n",
              "      <th>12</th>\n",
              "      <td>2020-02-13</td>\n",
              "      <td>DKI1 (Bunderan HI)</td>\n",
              "      <td>43</td>\n",
              "      <td>7</td>\n",
              "      <td>16</td>\n",
              "      <td>39</td>\n",
              "      <td>44</td>\n",
              "      <td>11000000</td>\n",
              "      <td>PM10</td>\n",
              "      <td>BAIK</td>\n",
              "    </tr>\n",
              "    <tr>\n",
              "      <th>13</th>\n",
              "      <td>2020-02-14</td>\n",
              "      <td>DKI1 (Bunderan HI)</td>\n",
              "      <td>51</td>\n",
              "      <td>6</td>\n",
              "      <td>25</td>\n",
              "      <td>21</td>\n",
              "      <td>22</td>\n",
              "      <td>5500000</td>\n",
              "      <td>PM10</td>\n",
              "      <td>SEDANG</td>\n",
              "    </tr>\n",
              "    <tr>\n",
              "      <th>14</th>\n",
              "      <td>2020-02-15</td>\n",
              "      <td>DKI1 (Bunderan HI)</td>\n",
              "      <td>60</td>\n",
              "      <td>7</td>\n",
              "      <td>51</td>\n",
              "      <td>53</td>\n",
              "      <td>44</td>\n",
              "      <td>11000000</td>\n",
              "      <td>PM10</td>\n",
              "      <td>SEDANG</td>\n",
              "    </tr>\n",
              "    <tr>\n",
              "      <th>15</th>\n",
              "      <td>2020-02-16</td>\n",
              "      <td>DKI1 (Bunderan HI)</td>\n",
              "      <td>52</td>\n",
              "      <td>7</td>\n",
              "      <td>24</td>\n",
              "      <td>41</td>\n",
              "      <td>7</td>\n",
              "      <td>5250000</td>\n",
              "      <td>PM10</td>\n",
              "      <td>SEDANG</td>\n",
              "    </tr>\n",
              "    <tr>\n",
              "      <th>16</th>\n",
              "      <td>2020-02-17</td>\n",
              "      <td>DKI1 (Bunderan HI)</td>\n",
              "      <td>24</td>\n",
              "      <td>5</td>\n",
              "      <td>18</td>\n",
              "      <td>28</td>\n",
              "      <td>5</td>\n",
              "      <td>750000</td>\n",
              "      <td>O3</td>\n",
              "      <td>BAIK</td>\n",
              "    </tr>\n",
              "    <tr>\n",
              "      <th>17</th>\n",
              "      <td>2020-02-18</td>\n",
              "      <td>DKI1 (Bunderan HI)</td>\n",
              "      <td>45</td>\n",
              "      <td>16</td>\n",
              "      <td>48</td>\n",
              "      <td>23</td>\n",
              "      <td>8</td>\n",
              "      <td>2000000</td>\n",
              "      <td>CO</td>\n",
              "      <td>BAIK</td>\n",
              "    </tr>\n",
              "    <tr>\n",
              "      <th>18</th>\n",
              "      <td>2020-02-19</td>\n",
              "      <td>DKI1 (Bunderan HI)</td>\n",
              "      <td>38</td>\n",
              "      <td>8</td>\n",
              "      <td>27</td>\n",
              "      <td>17</td>\n",
              "      <td>11</td>\n",
              "      <td>3850000</td>\n",
              "      <td>PM10</td>\n",
              "      <td>BAIK</td>\n",
              "    </tr>\n",
              "    <tr>\n",
              "      <th>19</th>\n",
              "      <td>2020-02-20</td>\n",
              "      <td>DKI1 (Bunderan HI)</td>\n",
              "      <td>30</td>\n",
              "      <td>5</td>\n",
              "      <td>16</td>\n",
              "      <td>20</td>\n",
              "      <td>6</td>\n",
              "      <td>2100000</td>\n",
              "      <td>PM10</td>\n",
              "      <td>BAIK</td>\n",
              "    </tr>\n",
              "    <tr>\n",
              "      <th>20</th>\n",
              "      <td>2020-02-21</td>\n",
              "      <td>DKI1 (Bunderan HI)</td>\n",
              "      <td>35</td>\n",
              "      <td>11</td>\n",
              "      <td>15</td>\n",
              "      <td>22</td>\n",
              "      <td>52</td>\n",
              "      <td>13000000</td>\n",
              "      <td>PM10</td>\n",
              "      <td>BAIK</td>\n",
              "    </tr>\n",
              "    <tr>\n",
              "      <th>21</th>\n",
              "      <td>2020-02-22</td>\n",
              "      <td>DKI1 (Bunderan HI)</td>\n",
              "      <td>31</td>\n",
              "      <td>8</td>\n",
              "      <td>16</td>\n",
              "      <td>30</td>\n",
              "      <td>27</td>\n",
              "      <td>9450000</td>\n",
              "      <td>PM10</td>\n",
              "      <td>BAIK</td>\n",
              "    </tr>\n",
              "    <tr>\n",
              "      <th>22</th>\n",
              "      <td>2020-02-23</td>\n",
              "      <td>DKI1 (Bunderan HI)</td>\n",
              "      <td>28</td>\n",
              "      <td>5</td>\n",
              "      <td>5</td>\n",
              "      <td>29</td>\n",
              "      <td>26</td>\n",
              "      <td>6500000</td>\n",
              "      <td>O3</td>\n",
              "      <td>BAIK</td>\n",
              "    </tr>\n",
              "    <tr>\n",
              "      <th>23</th>\n",
              "      <td>2020-02-24</td>\n",
              "      <td>DKI1 (Bunderan HI)</td>\n",
              "      <td>20</td>\n",
              "      <td>4</td>\n",
              "      <td>10</td>\n",
              "      <td>27</td>\n",
              "      <td>11</td>\n",
              "      <td>1650000</td>\n",
              "      <td>O3</td>\n",
              "      <td>BAIK</td>\n",
              "    </tr>\n",
              "    <tr>\n",
              "      <th>24</th>\n",
              "      <td>2020-02-25</td>\n",
              "      <td>DKI1 (Bunderan HI)</td>\n",
              "      <td>19</td>\n",
              "      <td>5</td>\n",
              "      <td>14</td>\n",
              "      <td>25</td>\n",
              "      <td>5</td>\n",
              "      <td>750000</td>\n",
              "      <td>O3</td>\n",
              "      <td>BAIK</td>\n",
              "    </tr>\n",
              "    <tr>\n",
              "      <th>25</th>\n",
              "      <td>2020-02-26</td>\n",
              "      <td>DKI1 (Bunderan HI)</td>\n",
              "      <td>42</td>\n",
              "      <td>5</td>\n",
              "      <td>15</td>\n",
              "      <td>27</td>\n",
              "      <td>2</td>\n",
              "      <td>500000</td>\n",
              "      <td>PM10</td>\n",
              "      <td>BAIK</td>\n",
              "    </tr>\n",
              "  </tbody>\n",
              "</table>\n",
              "</div>\n",
              "      <button class=\"colab-df-convert\" onclick=\"convertToInteractive('df-e4e00f42-b177-4a56-a8e5-6b497939f8bd')\"\n",
              "              title=\"Convert this dataframe to an interactive table.\"\n",
              "              style=\"display:none;\">\n",
              "        \n",
              "  <svg xmlns=\"http://www.w3.org/2000/svg\" height=\"24px\"viewBox=\"0 0 24 24\"\n",
              "       width=\"24px\">\n",
              "    <path d=\"M0 0h24v24H0V0z\" fill=\"none\"/>\n",
              "    <path d=\"M18.56 5.44l.94 2.06.94-2.06 2.06-.94-2.06-.94-.94-2.06-.94 2.06-2.06.94zm-11 1L8.5 8.5l.94-2.06 2.06-.94-2.06-.94L8.5 2.5l-.94 2.06-2.06.94zm10 10l.94 2.06.94-2.06 2.06-.94-2.06-.94-.94-2.06-.94 2.06-2.06.94z\"/><path d=\"M17.41 7.96l-1.37-1.37c-.4-.4-.92-.59-1.43-.59-.52 0-1.04.2-1.43.59L10.3 9.45l-7.72 7.72c-.78.78-.78 2.05 0 2.83L4 21.41c.39.39.9.59 1.41.59.51 0 1.02-.2 1.41-.59l7.78-7.78 2.81-2.81c.8-.78.8-2.07 0-2.86zM5.41 20L4 18.59l7.72-7.72 1.47 1.35L5.41 20z\"/>\n",
              "  </svg>\n",
              "      </button>\n",
              "      \n",
              "  <style>\n",
              "    .colab-df-container {\n",
              "      display:flex;\n",
              "      flex-wrap:wrap;\n",
              "      gap: 12px;\n",
              "    }\n",
              "\n",
              "    .colab-df-convert {\n",
              "      background-color: #E8F0FE;\n",
              "      border: none;\n",
              "      border-radius: 50%;\n",
              "      cursor: pointer;\n",
              "      display: none;\n",
              "      fill: #1967D2;\n",
              "      height: 32px;\n",
              "      padding: 0 0 0 0;\n",
              "      width: 32px;\n",
              "    }\n",
              "\n",
              "    .colab-df-convert:hover {\n",
              "      background-color: #E2EBFA;\n",
              "      box-shadow: 0px 1px 2px rgba(60, 64, 67, 0.3), 0px 1px 3px 1px rgba(60, 64, 67, 0.15);\n",
              "      fill: #174EA6;\n",
              "    }\n",
              "\n",
              "    [theme=dark] .colab-df-convert {\n",
              "      background-color: #3B4455;\n",
              "      fill: #D2E3FC;\n",
              "    }\n",
              "\n",
              "    [theme=dark] .colab-df-convert:hover {\n",
              "      background-color: #434B5C;\n",
              "      box-shadow: 0px 1px 3px 1px rgba(0, 0, 0, 0.15);\n",
              "      filter: drop-shadow(0px 1px 2px rgba(0, 0, 0, 0.3));\n",
              "      fill: #FFFFFF;\n",
              "    }\n",
              "  </style>\n",
              "\n",
              "      <script>\n",
              "        const buttonEl =\n",
              "          document.querySelector('#df-e4e00f42-b177-4a56-a8e5-6b497939f8bd button.colab-df-convert');\n",
              "        buttonEl.style.display =\n",
              "          google.colab.kernel.accessAllowed ? 'block' : 'none';\n",
              "\n",
              "        async function convertToInteractive(key) {\n",
              "          const element = document.querySelector('#df-e4e00f42-b177-4a56-a8e5-6b497939f8bd');\n",
              "          const dataTable =\n",
              "            await google.colab.kernel.invokeFunction('convertToInteractive',\n",
              "                                                     [key], {});\n",
              "          if (!dataTable) return;\n",
              "\n",
              "          const docLinkHtml = 'Like what you see? Visit the ' +\n",
              "            '<a target=\"_blank\" href=https://colab.research.google.com/notebooks/data_table.ipynb>data table notebook</a>'\n",
              "            + ' to learn more about interactive tables.';\n",
              "          element.innerHTML = '';\n",
              "          dataTable['output_type'] = 'display_data';\n",
              "          await google.colab.output.renderOutput(dataTable, element);\n",
              "          const docLink = document.createElement('div');\n",
              "          docLink.innerHTML = docLinkHtml;\n",
              "          element.appendChild(docLink);\n",
              "        }\n",
              "      </script>\n",
              "    </div>\n",
              "  </div>\n",
              "  "
            ]
          },
          "metadata": {},
          "execution_count": 29
        }
      ]
    },
    {
      "cell_type": "code",
      "source": [
        "import matplotlib.pyplot as plt\n",
        "\n",
        "df.plot(kind='scatter',x='no2', y='max')\n",
        "\n",
        "plt.title('jumlah no2 & maax')\n",
        "plt.xlabel('no2')\n",
        "plt.ylabel('MAX')\n",
        "plt.xlim(0,50)\n",
        "plt.ylim(0,14700000)\n",
        "plt.grid(True)\n",
        "plt.show()"
      ],
      "metadata": {
        "colab": {
          "base_uri": "https://localhost:8080/",
          "height": 295
        },
        "id": "-l33Sn2WxEr5",
        "outputId": "7f154367-9e6f-463d-fb7b-75a3aff5502c"
      },
      "execution_count": 30,
      "outputs": [
        {
          "output_type": "display_data",
          "data": {
            "text/plain": [
              "<Figure size 432x288 with 1 Axes>"
            ],
            "image/png": "[encoded data removed]"
          },
          "metadata": {
            "needs_background": "light"
          }
        }
      ]
    },
    {
      "cell_type": "code",
      "source": [
        "import numpy as np\n",
        "X = np.array(df['no2'])\n",
        "y = np.array(df['max'])\n",
        "\n",
        "print(f'X : {X}')\n",
        "print(f'y : {y}')"
      ],
      "metadata": {
        "colab": {
          "base_uri": "https://localhost:8080/"
        },
        "id": "YXLcXfV73wPL",
        "outputId": "c80e52af-c237-4f80-ee7f-d1d569647660"
      },
      "execution_count": 12,
      "outputs": [
        {
          "output_type": "stream",
          "name": "stdout",
          "text": [
            "X : [ 3  8  3  5 35 42 18 14 23 13 16 18 44 22 44  7  5  8 11  6 52 27 26 11\n",
            "  5  2]\n",
            "y : [  750000  1200000   450000   375000  8750000 14700000  4500000  3500000\n",
            "  3450000  1950000  2400000  3600000 11000000  5500000 11000000  5250000\n",
            "   750000  2000000  3850000  2100000 13000000  9450000  6500000  1650000\n",
            "   750000   500000]\n"
          ]
        }
      ]
    },
    {
      "cell_type": "code",
      "source": [
        "X = X.reshape(-1, 1)\n",
        "\n",
        "X.shape"
      ],
      "metadata": {
        "colab": {
          "base_uri": "https://localhost:8080/"
        },
        "id": "svOIAAaR4DW2",
        "outputId": "9b0ccfcb-c9f9-4103-9657-c5a233b9fbe9"
      },
      "execution_count": 13,
      "outputs": [
        {
          "output_type": "execute_result",
          "data": {
            "text/plain": [
              "(26, 1)"
            ]
          },
          "metadata": {},
          "execution_count": 13
        }
      ]
    },
    {
      "cell_type": "code",
      "source": [
        "X"
      ],
      "metadata": {
        "colab": {
          "base_uri": "https://localhost:8080/"
        },
        "id": "ORGQwDq44HSu",
        "outputId": "e2f55d15-b2dc-4758-e855-757ddacf6b6e"
      },
      "execution_count": 14,
      "outputs": [
        {
          "output_type": "execute_result",
          "data": {
            "text/plain": [
              "array([[ 3],\n",
              "       [ 8],\n",
              "       [ 3],\n",
              "       [ 5],\n",
              "       [35],\n",
              "       [42],\n",
              "       [18],\n",
              "       [14],\n",
              "       [23],\n",
              "       [13],\n",
              "       [16],\n",
              "       [18],\n",
              "       [44],\n",
              "       [22],\n",
              "       [44],\n",
              "       [ 7],\n",
              "       [ 5],\n",
              "       [ 8],\n",
              "       [11],\n",
              "       [ 6],\n",
              "       [52],\n",
              "       [27],\n",
              "       [26],\n",
              "       [11],\n",
              "       [ 5],\n",
              "       [ 2]])"
            ]
          },
          "metadata": {},
          "execution_count": 14
        }
      ]
    },
    {
      "cell_type": "code",
      "source": [
        "from sklearn.linear_model import LinearRegression\n",
        "\n",
        "model = LinearRegression()\n",
        "model.fit(X, y)"
      ],
      "metadata": {
        "colab": {
          "base_uri": "https://localhost:8080/"
        },
        "id": "Et9NP33_4Ir3",
        "outputId": "4d27e2fc-2f18-4874-b090-d1b096570564"
      },
      "execution_count": 15,
      "outputs": [
        {
          "output_type": "execute_result",
          "data": {
            "text/plain": [
              "LinearRegression()"
            ]
          },
          "metadata": {},
          "execution_count": 15
        }
      ]
    },
    {
      "cell_type": "code",
      "source": [
        "X_vis = np.array([0, 5000]).reshape(-1, 1)\n",
        "y_vis = model.predict(X_vis)"
      ],
      "metadata": {
        "id": "kfbxiVc34MR4"
      },
      "execution_count": 16,
      "outputs": []
    },
    {
      "cell_type": "code",
      "source": [
        "plt.scatter(X, y)\n",
        "plt.plot(X_vis,y_vis, '-r')\n",
        "plt.title('jumlah no2 & max')\n",
        "plt.xlabel('no2')\n",
        "plt.ylabel('MAX')\n",
        "plt.xlim(0,50)\n",
        "plt.ylim(0,14700000)\n",
        "plt.grid(True)\n",
        "plt.show()"
      ],
      "metadata": {
        "colab": {
          "base_uri": "https://localhost:8080/",
          "height": 295
        },
        "id": "sQqwJieD4Nkw",
        "outputId": "f602356a-4c22-44a8-bdf9-0a381d1b5d94"
      },
      "execution_count": 17,
      "outputs": [
        {
          "output_type": "display_data",
          "data": {
            "text/plain": [
              "<Figure size 432x288 with 1 Axes>"
            ],
            "image/png": "[encoded data removed]"
          },
          "metadata": {
            "needs_background": "light"
          }
        }
      ]
    },
    {
      "cell_type": "code",
      "source": [
        "print(f'intercept : {model.intercept_}')\n",
        "print(f'slope : {model.coef_}')"
      ],
      "metadata": {
        "colab": {
          "base_uri": "https://localhost:8080/"
        },
        "id": "l503vNJl4mxW",
        "outputId": "f6d48401-5b78-4638-f621-032af9dfa29a"
      },
      "execution_count": 18,
      "outputs": [
        {
          "output_type": "stream",
          "name": "stdout",
          "text": [
            "intercept : -308963.3971975967\n",
            "slope : [271277.88104089]\n"
          ]
        }
      ]
    },
    {
      "cell_type": "code",
      "source": [
        "no2 = np.array([42,44,50,44]).reshape(-1, 1)\n",
        "no2"
      ],
      "metadata": {
        "colab": {
          "base_uri": "https://localhost:8080/"
        },
        "id": "hwsR1uto4qt0",
        "outputId": "3b690822-a026-46e4-9414-97db219ab96c"
      },
      "execution_count": 19,
      "outputs": [
        {
          "output_type": "execute_result",
          "data": {
            "text/plain": [
              "array([[42],\n",
              "       [44],\n",
              "       [50],\n",
              "       [44]])"
            ]
          },
          "metadata": {},
          "execution_count": 19
        }
      ]
    },
    {
      "cell_type": "code",
      "source": [
        "prediksi_indeks = model.predict(no2)\n",
        "prediksi_indeks"
      ],
      "metadata": {
        "colab": {
          "base_uri": "https://localhost:8080/"
        },
        "id": "zkB0nDiy47ZE",
        "outputId": "16338e63-86c5-4382-e14e-03571afcf865"
      },
      "execution_count": 20,
      "outputs": [
        {
          "output_type": "execute_result",
          "data": {
            "text/plain": [
              "array([11084707.60651987, 11627263.36860166, 13254930.65484701,\n",
              "       11627263.36860166])"
            ]
          },
          "metadata": {},
          "execution_count": 20
        }
      ]
    },
    {
      "cell_type": "code",
      "source": [
        "for total, index in zip(no2, prediksi_indeks):\n",
        " print(f'jumlah no2 : {total} prediksi indeks : {index}')"
      ],
      "metadata": {
        "colab": {
          "base_uri": "https://localhost:8080/"
        },
        "id": "2v4c4DOw5DcJ",
        "outputId": "05520301-c629-462b-9cb3-2b6e7a5f3e5c"
      },
      "execution_count": 21,
      "outputs": [
        {
          "output_type": "stream",
          "name": "stdout",
          "text": [
            "jumlah no2 : [42] prediksi indeks : 11084707.606519874\n",
            "jumlah no2 : [44] prediksi indeks : 11627263.368601657\n",
            "jumlah no2 : [50] prediksi indeks : 13254930.654847011\n",
            "jumlah no2 : [44] prediksi indeks : 11627263.368601657\n"
          ]
        }
      ]
    },
    {
      "cell_type": "code",
      "source": [
        "import matplotlib.pyplot as plt\n",
        "fig = plt.figure()\n",
        "ax = fig.add_axes([0,0,1,1])\n",
        "indeks =(df['no2'])\n",
        "jml =(df['max'])\n",
        "c = ['blue', 'green', 'red', 'purple', 'yellow', 'black', 'brown']\n",
        "plt.title(\"tabel JUMLAH KESELURUHAN SISWA\")\n",
        "plt.xlabel('no2')\n",
        "plt.ylabel('MAX')\n",
        "plt.bar(indeks, jml, color = c)\n",
        "plt.show()\n",
        "\n",
        "fig = plt.figure()\n",
        "ax = fig.add_axes([0,0,1,1])\n",
        "\n",
        "ax.axis('equal')\n",
        "indeks =(df['no2'])\n",
        "jml =(df['max'])\n",
        "ax.pie(jml, labels=indeks,autopct='%1.2f%%')\n",
        "plt.title(\"tabel pendapatan bersih 1 tahun perusahaan\")\n",
        "plt.show()"
      ],
      "metadata": {
        "colab": {
          "base_uri": "https://localhost:8080/",
          "height": 684
        },
        "id": "0DwX18Ls5QcH",
        "outputId": "e1f5561e-4dab-4880-b06a-a8a2a8d18026"
      },
      "execution_count": 24,
      "outputs": [
        {
          "output_type": "display_data",
          "data": {
            "text/plain": [
              "<Figure size 432x288 with 1 Axes>"
            ],
            "image/png": "[encoded data removed]"
          },
          "metadata": {
            "needs_background": "light"
          }
        },
        {
          "output_type": "display_data",
          "data": {
            "text/plain": [
              "<Figure size 432x288 with 1 Axes>"
            ],
            "image/png": "[encoded data removed]"
          },
          "metadata": {}
        }
      ]
    }
  ]
}