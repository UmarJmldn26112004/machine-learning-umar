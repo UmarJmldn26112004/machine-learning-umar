{
  "nbformat": 4,
  "nbformat_minor": 0,
  "metadata": {
    "colab": {
      "provenance": []
    },
    "kernelspec": {
      "name": "python3",
      "display_name": "Python 3"
    },
    "language_info": {
      "name": "python"
    }
  },
  "cells": [
    {
      "cell_type": "code",
      "execution_count": 1,
      "metadata": {
        "id": "DSuFNYYX2MD-",
        "colab": {
          "base_uri": "https://localhost:8080/"
        },
        "outputId": "a30a11eb-85d9-4053-f336-b1504bdb148c"
      },
      "outputs": [
        {
          "output_type": "stream",
          "name": "stdout",
          "text": [
            "Mounted at /content/drive\n"
          ]
        }
      ],
      "source": [
        "import pandas as pd\n",
        "from google. colab import drive #memanggil package import drive\n",
        "drive.mount('/content/drive')"
      ]
    },
    {
      "cell_type": "code",
      "source": [
        "path ='/content/drive/MyDrive/CSV/kesehatan-data-djakarta - 2018.csv'\n",
        "\n",
        "df = pd.read_csv(path)\n",
        "df.describe()"
      ],
      "metadata": {
        "colab": {
          "base_uri": "https://localhost:8080/",
          "height": 300
        },
        "id": "ZD4na_tFAahz",
        "outputId": "ef42b2db-43dc-4918-bcbd-9d33dfe7ea30"
      },
      "execution_count": 2,
      "outputs": [
        {
          "output_type": "execute_result",
          "data": {
            "text/plain": [
              "        tahun  tenaga_kesehatan        jumlah\n",
              "count    24.0         24.000000  2.400000e+01\n",
              "mean   2018.0        142.458333  5.983833e+06\n",
              "std       0.0        125.373175  7.090447e+06\n",
              "min    2018.0         24.000000  1.600000e+05\n",
              "25%    2018.0         65.750000  1.606250e+06\n",
              "50%    2018.0         95.000000  3.550000e+06\n",
              "75%    2018.0        155.000000  8.287500e+06\n",
              "max    2018.0        514.000000  2.695000e+07"
            ],
            "text/html": [
              "\n",
              "  <div id=\"df-1480c609-c44c-4e8b-ad5e-9dc3f404910f\">\n",
              "    <div class=\"colab-df-container\">\n",
              "      <div>\n",
              "<style scoped>\n",
              "    .dataframe tbody tr th:only-of-type {\n",
              "        vertical-align: middle;\n",
              "    }\n",
              "\n",
              "    .dataframe tbody tr th {\n",
              "        vertical-align: top;\n",
              "    }\n",
              "\n",
              "    .dataframe thead th {\n",
              "        text-align: right;\n",
              "    }\n",
              "</style>\n",
              "<table border=\"1\" class=\"dataframe\">\n",
              "  <thead>\n",
              "    <tr style=\"text-align: right;\">\n",
              "      <th></th>\n",
              "      <th>tahun</th>\n",
              "      <th>tenaga_kesehatan</th>\n",
              "      <th>jumlah</th>\n",
              "    </tr>\n",
              "  </thead>\n",
              "  <tbody>\n",
              "    <tr>\n",
              "      <th>count</th>\n",
              "      <td>24.0</td>\n",
              "      <td>24.000000</td>\n",
              "      <td>2.400000e+01</td>\n",
              "    </tr>\n",
              "    <tr>\n",
              "      <th>mean</th>\n",
              "      <td>2018.0</td>\n",
              "      <td>142.458333</td>\n",
              "      <td>5.983833e+06</td>\n",
              "    </tr>\n",
              "    <tr>\n",
              "      <th>std</th>\n",
              "      <td>0.0</td>\n",
              "      <td>125.373175</td>\n",
              "      <td>7.090447e+06</td>\n",
              "    </tr>\n",
              "    <tr>\n",
              "      <th>min</th>\n",
              "      <td>2018.0</td>\n",
              "      <td>24.000000</td>\n",
              "      <td>1.600000e+05</td>\n",
              "    </tr>\n",
              "    <tr>\n",
              "      <th>25%</th>\n",
              "      <td>2018.0</td>\n",
              "      <td>65.750000</td>\n",
              "      <td>1.606250e+06</td>\n",
              "    </tr>\n",
              "    <tr>\n",
              "      <th>50%</th>\n",
              "      <td>2018.0</td>\n",
              "      <td>95.000000</td>\n",
              "      <td>3.550000e+06</td>\n",
              "    </tr>\n",
              "    <tr>\n",
              "      <th>75%</th>\n",
              "      <td>2018.0</td>\n",
              "      <td>155.000000</td>\n",
              "      <td>8.287500e+06</td>\n",
              "    </tr>\n",
              "    <tr>\n",
              "      <th>max</th>\n",
              "      <td>2018.0</td>\n",
              "      <td>514.000000</td>\n",
              "      <td>2.695000e+07</td>\n",
              "    </tr>\n",
              "  </tbody>\n",
              "</table>\n",
              "</div>\n",
              "      <button class=\"colab-df-convert\" onclick=\"convertToInteractive('df-1480c609-c44c-4e8b-ad5e-9dc3f404910f')\"\n",
              "              title=\"Convert this dataframe to an interactive table.\"\n",
              "              style=\"display:none;\">\n",
              "        \n",
              "  <svg xmlns=\"http://www.w3.org/2000/svg\" height=\"24px\"viewBox=\"0 0 24 24\"\n",
              "       width=\"24px\">\n",
              "    <path d=\"M0 0h24v24H0V0z\" fill=\"none\"/>\n",
              "    <path d=\"M18.56 5.44l.94 2.06.94-2.06 2.06-.94-2.06-.94-.94-2.06-.94 2.06-2.06.94zm-11 1L8.5 8.5l.94-2.06 2.06-.94-2.06-.94L8.5 2.5l-.94 2.06-2.06.94zm10 10l.94 2.06.94-2.06 2.06-.94-2.06-.94-.94-2.06-.94 2.06-2.06.94z\"/><path d=\"M17.41 7.96l-1.37-1.37c-.4-.4-.92-.59-1.43-.59-.52 0-1.04.2-1.43.59L10.3 9.45l-7.72 7.72c-.78.78-.78 2.05 0 2.83L4 21.41c.39.39.9.59 1.41.59.51 0 1.02-.2 1.41-.59l7.78-7.78 2.81-2.81c.8-.78.8-2.07 0-2.86zM5.41 20L4 18.59l7.72-7.72 1.47 1.35L5.41 20z\"/>\n",
              "  </svg>\n",
              "      </button>\n",
              "      \n",
              "  <style>\n",
              "    .colab-df-container {\n",
              "      display:flex;\n",
              "      flex-wrap:wrap;\n",
              "      gap: 12px;\n",
              "    }\n",
              "\n",
              "    .colab-df-convert {\n",
              "      background-color: #E8F0FE;\n",
              "      border: none;\n",
              "      border-radius: 50%;\n",
              "      cursor: pointer;\n",
              "      display: none;\n",
              "      fill: #1967D2;\n",
              "      height: 32px;\n",
              "      padding: 0 0 0 0;\n",
              "      width: 32px;\n",
              "    }\n",
              "\n",
              "    .colab-df-convert:hover {\n",
              "      background-color: #E2EBFA;\n",
              "      box-shadow: 0px 1px 2px rgba(60, 64, 67, 0.3), 0px 1px 3px 1px rgba(60, 64, 67, 0.15);\n",
              "      fill: #174EA6;\n",
              "    }\n",
              "\n",
              "    [theme=dark] .colab-df-convert {\n",
              "      background-color: #3B4455;\n",
              "      fill: #D2E3FC;\n",
              "    }\n",
              "\n",
              "    [theme=dark] .colab-df-convert:hover {\n",
              "      background-color: #434B5C;\n",
              "      box-shadow: 0px 1px 3px 1px rgba(0, 0, 0, 0.15);\n",
              "      filter: drop-shadow(0px 1px 2px rgba(0, 0, 0, 0.3));\n",
              "      fill: #FFFFFF;\n",
              "    }\n",
              "  </style>\n",
              "\n",
              "      <script>\n",
              "        const buttonEl =\n",
              "          document.querySelector('#df-1480c609-c44c-4e8b-ad5e-9dc3f404910f button.colab-df-convert');\n",
              "        buttonEl.style.display =\n",
              "          google.colab.kernel.accessAllowed ? 'block' : 'none';\n",
              "\n",
              "        async function convertToInteractive(key) {\n",
              "          const element = document.querySelector('#df-1480c609-c44c-4e8b-ad5e-9dc3f404910f');\n",
              "          const dataTable =\n",
              "            await google.colab.kernel.invokeFunction('convertToInteractive',\n",
              "                                                     [key], {});\n",
              "          if (!dataTable) return;\n",
              "\n",
              "          const docLinkHtml = 'Like what you see? Visit the ' +\n",
              "            '<a target=\"_blank\" href=https://colab.research.google.com/notebooks/data_table.ipynb>data table notebook</a>'\n",
              "            + ' to learn more about interactive tables.';\n",
              "          element.innerHTML = '';\n",
              "          dataTable['output_type'] = 'display_data';\n",
              "          await google.colab.output.renderOutput(dataTable, element);\n",
              "          const docLink = document.createElement('div');\n",
              "          docLink.innerHTML = docLinkHtml;\n",
              "          element.appendChild(docLink);\n",
              "        }\n",
              "      </script>\n",
              "    </div>\n",
              "  </div>\n",
              "  "
            ]
          },
          "metadata": {},
          "execution_count": 2
        }
      ]
    },
    {
      "cell_type": "code",
      "source": [
        "df"
      ],
      "metadata": {
        "colab": {
          "base_uri": "https://localhost:8080/",
          "height": 802
        },
        "id": "SwRPqtNzAyqn",
        "outputId": "a8bfe9b1-a651-473b-9a35-b1416d43c7cf"
      },
      "execution_count": 3,
      "outputs": [
        {
          "output_type": "execute_result",
          "data": {
            "text/plain": [
              "    tahun           wilayah  tenaga_kesehatan    jumlah\n",
              "0    2018  Kepulauan Seribu                24    160000\n",
              "1    2018  Kepulauan Seribu                31    480000\n",
              "2    2018  Kepulauan Seribu                32    570000\n",
              "3    2018  Kepulauan Seribu                45    990000\n",
              "4    2018  Kepulauan Seribu                53   1125000\n",
              "5    2018   Jakarta Selatan                65   1550000\n",
              "6    2018   Jakarta Selatan                66   1625000\n",
              "7    2018   Jakarta Selatan                71   1625000\n",
              "8    2018   Jakarta Selatan                77   1775000\n",
              "9    2018   Jakarta Selatan                82   1940000\n",
              "10   2018     Jakarta Timur                93   2090000\n",
              "11   2018     Jakarta Timur                93   2450000\n",
              "12   2018     Jakarta Timur                97   4650000\n",
              "13   2018     Jakarta Timur               103   4852000\n",
              "14   2018     Jakarta Timur               105   4890000\n",
              "15   2018     Jakarta Pusat               134   5140000\n",
              "16   2018     Jakarta Pusat               138   5490000\n",
              "17   2018     Jakarta Pusat               148   8250000\n",
              "18   2018     Jakarta Pusat               176   8400000\n",
              "19   2018     Jakarta Pusat               245   8620000\n",
              "20   2018     Jakarta Barat               325   9430000\n",
              "21   2018     Jakarta Barat               336  17880000\n",
              "22   2018     Jakarta Barat               366  22680000\n",
              "23   2018     Jakarta Barat               514  26950000"
            ],
            "text/html": [
              "\n",
              "  <div id=\"df-20f3c2ce-9a21-4aab-a21f-8d93d5e9cfb5\">\n",
              "    <div class=\"colab-df-container\">\n",
              "      <div>\n",
              "<style scoped>\n",
              "    .dataframe tbody tr th:only-of-type {\n",
              "        vertical-align: middle;\n",
              "    }\n",
              "\n",
              "    .dataframe tbody tr th {\n",
              "        vertical-align: top;\n",
              "    }\n",
              "\n",
              "    .dataframe thead th {\n",
              "        text-align: right;\n",
              "    }\n",
              "</style>\n",
              "<table border=\"1\" class=\"dataframe\">\n",
              "  <thead>\n",
              "    <tr style=\"text-align: right;\">\n",
              "      <th></th>\n",
              "      <th>tahun</th>\n",
              "      <th>wilayah</th>\n",
              "      <th>tenaga_kesehatan</th>\n",
              "      <th>jumlah</th>\n",
              "    </tr>\n",
              "  </thead>\n",
              "  <tbody>\n",
              "    <tr>\n",
              "      <th>0</th>\n",
              "      <td>2018</td>\n",
              "      <td>Kepulauan Seribu</td>\n",
              "      <td>24</td>\n",
              "      <td>160000</td>\n",
              "    </tr>\n",
              "    <tr>\n",
              "      <th>1</th>\n",
              "      <td>2018</td>\n",
              "      <td>Kepulauan Seribu</td>\n",
              "      <td>31</td>\n",
              "      <td>480000</td>\n",
              "    </tr>\n",
              "    <tr>\n",
              "      <th>2</th>\n",
              "      <td>2018</td>\n",
              "      <td>Kepulauan Seribu</td>\n",
              "      <td>32</td>\n",
              "      <td>570000</td>\n",
              "    </tr>\n",
              "    <tr>\n",
              "      <th>3</th>\n",
              "      <td>2018</td>\n",
              "      <td>Kepulauan Seribu</td>\n",
              "      <td>45</td>\n",
              "      <td>990000</td>\n",
              "    </tr>\n",
              "    <tr>\n",
              "      <th>4</th>\n",
              "      <td>2018</td>\n",
              "      <td>Kepulauan Seribu</td>\n",
              "      <td>53</td>\n",
              "      <td>1125000</td>\n",
              "    </tr>\n",
              "    <tr>\n",
              "      <th>5</th>\n",
              "      <td>2018</td>\n",
              "      <td>Jakarta Selatan</td>\n",
              "      <td>65</td>\n",
              "      <td>1550000</td>\n",
              "    </tr>\n",
              "    <tr>\n",
              "      <th>6</th>\n",
              "      <td>2018</td>\n",
              "      <td>Jakarta Selatan</td>\n",
              "      <td>66</td>\n",
              "      <td>1625000</td>\n",
              "    </tr>\n",
              "    <tr>\n",
              "      <th>7</th>\n",
              "      <td>2018</td>\n",
              "      <td>Jakarta Selatan</td>\n",
              "      <td>71</td>\n",
              "      <td>1625000</td>\n",
              "    </tr>\n",
              "    <tr>\n",
              "      <th>8</th>\n",
              "      <td>2018</td>\n",
              "      <td>Jakarta Selatan</td>\n",
              "      <td>77</td>\n",
              "      <td>1775000</td>\n",
              "    </tr>\n",
              "    <tr>\n",
              "      <th>9</th>\n",
              "      <td>2018</td>\n",
              "      <td>Jakarta Selatan</td>\n",
              "      <td>82</td>\n",
              "      <td>1940000</td>\n",
              "    </tr>\n",
              "    <tr>\n",
              "      <th>10</th>\n",
              "      <td>2018</td>\n",
              "      <td>Jakarta Timur</td>\n",
              "      <td>93</td>\n",
              "      <td>2090000</td>\n",
              "    </tr>\n",
              "    <tr>\n",
              "      <th>11</th>\n",
              "      <td>2018</td>\n",
              "      <td>Jakarta Timur</td>\n",
              "      <td>93</td>\n",
              "      <td>2450000</td>\n",
              "    </tr>\n",
              "    <tr>\n",
              "      <th>12</th>\n",
              "      <td>2018</td>\n",
              "      <td>Jakarta Timur</td>\n",
              "      <td>97</td>\n",
              "      <td>4650000</td>\n",
              "    </tr>\n",
              "    <tr>\n",
              "      <th>13</th>\n",
              "      <td>2018</td>\n",
              "      <td>Jakarta Timur</td>\n",
              "      <td>103</td>\n",
              "      <td>4852000</td>\n",
              "    </tr>\n",
              "    <tr>\n",
              "      <th>14</th>\n",
              "      <td>2018</td>\n",
              "      <td>Jakarta Timur</td>\n",
              "      <td>105</td>\n",
              "      <td>4890000</td>\n",
              "    </tr>\n",
              "    <tr>\n",
              "      <th>15</th>\n",
              "      <td>2018</td>\n",
              "      <td>Jakarta Pusat</td>\n",
              "      <td>134</td>\n",
              "      <td>5140000</td>\n",
              "    </tr>\n",
              "    <tr>\n",
              "      <th>16</th>\n",
              "      <td>2018</td>\n",
              "      <td>Jakarta Pusat</td>\n",
              "      <td>138</td>\n",
              "      <td>5490000</td>\n",
              "    </tr>\n",
              "    <tr>\n",
              "      <th>17</th>\n",
              "      <td>2018</td>\n",
              "      <td>Jakarta Pusat</td>\n",
              "      <td>148</td>\n",
              "      <td>8250000</td>\n",
              "    </tr>\n",
              "    <tr>\n",
              "      <th>18</th>\n",
              "      <td>2018</td>\n",
              "      <td>Jakarta Pusat</td>\n",
              "      <td>176</td>\n",
              "      <td>8400000</td>\n",
              "    </tr>\n",
              "    <tr>\n",
              "      <th>19</th>\n",
              "      <td>2018</td>\n",
              "      <td>Jakarta Pusat</td>\n",
              "      <td>245</td>\n",
              "      <td>8620000</td>\n",
              "    </tr>\n",
              "    <tr>\n",
              "      <th>20</th>\n",
              "      <td>2018</td>\n",
              "      <td>Jakarta Barat</td>\n",
              "      <td>325</td>\n",
              "      <td>9430000</td>\n",
              "    </tr>\n",
              "    <tr>\n",
              "      <th>21</th>\n",
              "      <td>2018</td>\n",
              "      <td>Jakarta Barat</td>\n",
              "      <td>336</td>\n",
              "      <td>17880000</td>\n",
              "    </tr>\n",
              "    <tr>\n",
              "      <th>22</th>\n",
              "      <td>2018</td>\n",
              "      <td>Jakarta Barat</td>\n",
              "      <td>366</td>\n",
              "      <td>22680000</td>\n",
              "    </tr>\n",
              "    <tr>\n",
              "      <th>23</th>\n",
              "      <td>2018</td>\n",
              "      <td>Jakarta Barat</td>\n",
              "      <td>514</td>\n",
              "      <td>26950000</td>\n",
              "    </tr>\n",
              "  </tbody>\n",
              "</table>\n",
              "</div>\n",
              "      <button class=\"colab-df-convert\" onclick=\"convertToInteractive('df-20f3c2ce-9a21-4aab-a21f-8d93d5e9cfb5')\"\n",
              "              title=\"Convert this dataframe to an interactive table.\"\n",
              "              style=\"display:none;\">\n",
              "        \n",
              "  <svg xmlns=\"http://www.w3.org/2000/svg\" height=\"24px\"viewBox=\"0 0 24 24\"\n",
              "       width=\"24px\">\n",
              "    <path d=\"M0 0h24v24H0V0z\" fill=\"none\"/>\n",
              "    <path d=\"M18.56 5.44l.94 2.06.94-2.06 2.06-.94-2.06-.94-.94-2.06-.94 2.06-2.06.94zm-11 1L8.5 8.5l.94-2.06 2.06-.94-2.06-.94L8.5 2.5l-.94 2.06-2.06.94zm10 10l.94 2.06.94-2.06 2.06-.94-2.06-.94-.94-2.06-.94 2.06-2.06.94z\"/><path d=\"M17.41 7.96l-1.37-1.37c-.4-.4-.92-.59-1.43-.59-.52 0-1.04.2-1.43.59L10.3 9.45l-7.72 7.72c-.78.78-.78 2.05 0 2.83L4 21.41c.39.39.9.59 1.41.59.51 0 1.02-.2 1.41-.59l7.78-7.78 2.81-2.81c.8-.78.8-2.07 0-2.86zM5.41 20L4 18.59l7.72-7.72 1.47 1.35L5.41 20z\"/>\n",
              "  </svg>\n",
              "      </button>\n",
              "      \n",
              "  <style>\n",
              "    .colab-df-container {\n",
              "      display:flex;\n",
              "      flex-wrap:wrap;\n",
              "      gap: 12px;\n",
              "    }\n",
              "\n",
              "    .colab-df-convert {\n",
              "      background-color: #E8F0FE;\n",
              "      border: none;\n",
              "      border-radius: 50%;\n",
              "      cursor: pointer;\n",
              "      display: none;\n",
              "      fill: #1967D2;\n",
              "      height: 32px;\n",
              "      padding: 0 0 0 0;\n",
              "      width: 32px;\n",
              "    }\n",
              "\n",
              "    .colab-df-convert:hover {\n",
              "      background-color: #E2EBFA;\n",
              "      box-shadow: 0px 1px 2px rgba(60, 64, 67, 0.3), 0px 1px 3px 1px rgba(60, 64, 67, 0.15);\n",
              "      fill: #174EA6;\n",
              "    }\n",
              "\n",
              "    [theme=dark] .colab-df-convert {\n",
              "      background-color: #3B4455;\n",
              "      fill: #D2E3FC;\n",
              "    }\n",
              "\n",
              "    [theme=dark] .colab-df-convert:hover {\n",
              "      background-color: #434B5C;\n",
              "      box-shadow: 0px 1px 3px 1px rgba(0, 0, 0, 0.15);\n",
              "      filter: drop-shadow(0px 1px 2px rgba(0, 0, 0, 0.3));\n",
              "      fill: #FFFFFF;\n",
              "    }\n",
              "  </style>\n",
              "\n",
              "      <script>\n",
              "        const buttonEl =\n",
              "          document.querySelector('#df-20f3c2ce-9a21-4aab-a21f-8d93d5e9cfb5 button.colab-df-convert');\n",
              "        buttonEl.style.display =\n",
              "          google.colab.kernel.accessAllowed ? 'block' : 'none';\n",
              "\n",
              "        async function convertToInteractive(key) {\n",
              "          const element = document.querySelector('#df-20f3c2ce-9a21-4aab-a21f-8d93d5e9cfb5');\n",
              "          const dataTable =\n",
              "            await google.colab.kernel.invokeFunction('convertToInteractive',\n",
              "                                                     [key], {});\n",
              "          if (!dataTable) return;\n",
              "\n",
              "          const docLinkHtml = 'Like what you see? Visit the ' +\n",
              "            '<a target=\"_blank\" href=https://colab.research.google.com/notebooks/data_table.ipynb>data table notebook</a>'\n",
              "            + ' to learn more about interactive tables.';\n",
              "          element.innerHTML = '';\n",
              "          dataTable['output_type'] = 'display_data';\n",
              "          await google.colab.output.renderOutput(dataTable, element);\n",
              "          const docLink = document.createElement('div');\n",
              "          docLink.innerHTML = docLinkHtml;\n",
              "          element.appendChild(docLink);\n",
              "        }\n",
              "      </script>\n",
              "    </div>\n",
              "  </div>\n",
              "  "
            ]
          },
          "metadata": {},
          "execution_count": 3
        }
      ]
    },
    {
      "cell_type": "code",
      "source": [
        "import matplotlib.pyplot as plt\n",
        "\n",
        "df.plot(kind='scatter',x='tenaga_kesehatan', y='jumlah')\n",
        "\n",
        "plt.title('jumlah kesehatan')\n",
        "plt.xlabel('tenaga kesehatan')\n",
        "plt.ylabel('jumlah')\n",
        "plt.xlim(0,500)\n",
        "plt.ylim(0,26950000)\n",
        "plt.grid(True)\n",
        "plt.show()"
      ],
      "metadata": {
        "colab": {
          "base_uri": "https://localhost:8080/",
          "height": 295
        },
        "id": "A5JyElgjA-5_",
        "outputId": "45f30b4d-95fc-49ab-fa78-6d68153536f5"
      },
      "execution_count": 13,
      "outputs": [
        {
          "output_type": "display_data",
          "data": {
            "text/plain": [
              "<Figure size 432x288 with 1 Axes>"
            ],
            "image/png": "[encoded data removed]"
          },
          "metadata": {
            "needs_background": "light"
          }
        }
      ]
    },
    {
      "cell_type": "code",
      "source": [
        "import numpy as np\n",
        "X = np.array(df['tenaga_kesehatan'])\n",
        "y = np.array(df['jumlah'])\n",
        "\n",
        "print(f'X : {X}')\n",
        "print(f'y : {y}')"
      ],
      "metadata": {
        "colab": {
          "base_uri": "https://localhost:8080/"
        },
        "id": "D6cYcS5_BSfp",
        "outputId": "697cbe19-91e8-4f94-e977-a3f38617882c"
      },
      "execution_count": 6,
      "outputs": [
        {
          "output_type": "stream",
          "name": "stdout",
          "text": [
            "X : [ 24  31  32  45  53  65  66  71  77  82  93  93  97 103 105 134 138 148\n",
            " 176 245 325 336 366 514]\n",
            "y : [  160000   480000   570000   990000  1125000  1550000  1625000  1625000\n",
            "  1775000  1940000  2090000  2450000  4650000  4852000  4890000  5140000\n",
            "  5490000  8250000  8400000  8620000  9430000 17880000 22680000 26950000]\n"
          ]
        }
      ]
    },
    {
      "cell_type": "code",
      "source": [
        "X = X.reshape(-1, 1)\n",
        "\n",
        "X.shape"
      ],
      "metadata": {
        "colab": {
          "base_uri": "https://localhost:8080/"
        },
        "id": "btYwxnUGBbnn",
        "outputId": "00425228-7976-4106-bc99-8bc49b8688e5"
      },
      "execution_count": 7,
      "outputs": [
        {
          "output_type": "execute_result",
          "data": {
            "text/plain": [
              "(24, 1)"
            ]
          },
          "metadata": {},
          "execution_count": 7
        }
      ]
    },
    {
      "cell_type": "code",
      "source": [
        "X"
      ],
      "metadata": {
        "colab": {
          "base_uri": "https://localhost:8080/"
        },
        "id": "XUu4ZXyCBffc",
        "outputId": "165e3bda-e462-4d45-a02b-d6aa8d26c0db"
      },
      "execution_count": 8,
      "outputs": [
        {
          "output_type": "execute_result",
          "data": {
            "text/plain": [
              "array([[ 24],\n",
              "       [ 31],\n",
              "       [ 32],\n",
              "       [ 45],\n",
              "       [ 53],\n",
              "       [ 65],\n",
              "       [ 66],\n",
              "       [ 71],\n",
              "       [ 77],\n",
              "       [ 82],\n",
              "       [ 93],\n",
              "       [ 93],\n",
              "       [ 97],\n",
              "       [103],\n",
              "       [105],\n",
              "       [134],\n",
              "       [138],\n",
              "       [148],\n",
              "       [176],\n",
              "       [245],\n",
              "       [325],\n",
              "       [336],\n",
              "       [366],\n",
              "       [514]])"
            ]
          },
          "metadata": {},
          "execution_count": 8
        }
      ]
    },
    {
      "cell_type": "code",
      "source": [
        "from sklearn.linear_model import LinearRegression\n",
        "\n",
        "model = LinearRegression()\n",
        "model.fit(X, y)"
      ],
      "metadata": {
        "colab": {
          "base_uri": "https://localhost:8080/"
        },
        "id": "tUFN76cTBiqz",
        "outputId": "ffbd3dab-41cf-4526-fd18-1d0556b85d33"
      },
      "execution_count": 9,
      "outputs": [
        {
          "output_type": "execute_result",
          "data": {
            "text/plain": [
              "LinearRegression()"
            ]
          },
          "metadata": {},
          "execution_count": 9
        }
      ]
    },
    {
      "cell_type": "code",
      "source": [
        "X_vis = np.array([0, 5000]).reshape(-1, 1)\n",
        "y_vis = model.predict(X_vis)"
      ],
      "metadata": {
        "id": "5PqwDEcKBl-k"
      },
      "execution_count": 10,
      "outputs": []
    },
    {
      "cell_type": "code",
      "source": [
        "plt.scatter(X, y)\n",
        "plt.plot(X_vis,y_vis, '-r')\n",
        "\n",
        "plt.title('jumlah kesehatan')\n",
        "plt.xlabel('tenaga kesehatan')\n",
        "plt.ylabel('jumlah')\n",
        "plt.xlim(0,500)\n",
        "plt.ylim(0,26950000)\n",
        "plt.grid(True)\n",
        "plt.show()"
      ],
      "metadata": {
        "colab": {
          "base_uri": "https://localhost:8080/",
          "height": 295
        },
        "id": "QGlbc3MABm7A",
        "outputId": "4ec6ecff-0104-471f-bc2d-57993a70a10d"
      },
      "execution_count": 12,
      "outputs": [
        {
          "output_type": "display_data",
          "data": {
            "text/plain": [
              "<Figure size 432x288 with 1 Axes>"
            ],
            "image/png": "[encoded data removed]"
          },
          "metadata": {
            "needs_background": "light"
          }
        }
      ]
    },
    {
      "cell_type": "code",
      "source": [
        "print(f'intercept : {model.intercept_}')\n",
        "print(f'slope : {model.coef_}')"
      ],
      "metadata": {
        "colab": {
          "base_uri": "https://localhost:8080/"
        },
        "id": "z3dbiDEaCMtp",
        "outputId": "a094853f-4f7b-462a-ca72-6e5d54c48db9"
      },
      "execution_count": 14,
      "outputs": [
        {
          "output_type": "stream",
          "name": "stdout",
          "text": [
            "intercept : -1767634.4088537246\n",
            "slope : [54412.1748501]\n"
          ]
        }
      ]
    },
    {
      "cell_type": "code",
      "source": [
        "tenaga_kesehatan = np.array([45,53,65,66,71,77,82,]).reshape(-1, 1)\n",
        "tenaga_kesehatan"
      ],
      "metadata": {
        "colab": {
          "base_uri": "https://localhost:8080/"
        },
        "id": "ORSqxCSdCQbx",
        "outputId": "0effe2db-a523-406f-fb93-d8699139ee41"
      },
      "execution_count": 23,
      "outputs": [
        {
          "output_type": "execute_result",
          "data": {
            "text/plain": [
              "array([[45],\n",
              "       [53],\n",
              "       [65],\n",
              "       [66],\n",
              "       [71],\n",
              "       [77],\n",
              "       [82]])"
            ]
          },
          "metadata": {},
          "execution_count": 23
        }
      ]
    },
    {
      "cell_type": "code",
      "source": [
        "prediksi_indeks = model.predict(tenaga_kesehatan)\n",
        "prediksi_indeks"
      ],
      "metadata": {
        "colab": {
          "base_uri": "https://localhost:8080/"
        },
        "id": "Lt2JYyfeD7a-",
        "outputId": "906692d9-b9a5-47ac-abff-cdea43e120e1"
      },
      "execution_count": 24,
      "outputs": [
        {
          "output_type": "execute_result",
          "data": {
            "text/plain": [
              "array([ 680913.45940074, 1116210.85820154, 1769156.95640273,\n",
              "       1823569.13125283, 2095630.00550332, 2422103.05460392,\n",
              "       2694163.92885442])"
            ]
          },
          "metadata": {},
          "execution_count": 24
        }
      ]
    },
    {
      "cell_type": "code",
      "source": [
        "for total, index in zip(tenaga_kesehatan, prediksi_indeks):\n",
        " print(f'jumlah no2 : {total} prediksi indeks : {index}')"
      ],
      "metadata": {
        "colab": {
          "base_uri": "https://localhost:8080/"
        },
        "id": "uvYbT0ASEBKw",
        "outputId": "f21088b0-f8b7-4b70-9deb-a79c609263de"
      },
      "execution_count": 25,
      "outputs": [
        {
          "output_type": "stream",
          "name": "stdout",
          "text": [
            "jumlah no2 : [45] prediksi indeks : 680913.4594007423\n",
            "jumlah no2 : [53] prediksi indeks : 1116210.8582015363\n",
            "jumlah no2 : [65] prediksi indeks : 1769156.9564027274\n",
            "jumlah no2 : [66] prediksi indeks : 1823569.1312528267\n",
            "jumlah no2 : [71] prediksi indeks : 2095630.005503323\n",
            "jumlah no2 : [77] prediksi indeks : 2422103.0546039185\n",
            "jumlah no2 : [82] prediksi indeks : 2694163.928854415\n"
          ]
        }
      ]
    },
    {
      "cell_type": "code",
      "source": [
        "import matplotlib.pyplot as plt\n",
        "fig = plt.figure()\n",
        "ax = fig.add_axes([0,0,1,1])\n",
        "indeks =(df['tenaga_kesehatan'])\n",
        "jml =(df['jumlah'])\n",
        "c = ['blue', 'green', 'red', 'purple', 'yellow', 'black', 'brown']\n",
        "plt.title(\"tabel JUMLAH KESELURUHAN SISWA\")\n",
        "plt.xlabel('no2')\n",
        "plt.ylabel('MAX')\n",
        "plt.bar(indeks, jml, color = c)\n",
        "plt.show()\n",
        "\n",
        "fig = plt.figure()\n",
        "ax = fig.add_axes([0,0,1,1])\n",
        "\n",
        "ax.axis('equal')\n",
        "indeks =(df['tenaga_kesehatan'])\n",
        "jml =(df['jumlah'])\n",
        "ax.pie(jml, labels=indeks,autopct='%1.2f%%')\n",
        "plt.title(\"tabel pendapatan bersih 1 tahun perusahaan\")\n",
        "plt.show()"
      ],
      "metadata": {
        "colab": {
          "base_uri": "https://localhost:8080/",
          "height": 684
        },
        "id": "l1-CvpV2EWDN",
        "outputId": "139d8a9d-b808-4f48-f88f-42c69f6f7b5f"
      },
      "execution_count": 27,
      "outputs": [
        {
          "output_type": "display_data",
          "data": {
            "text/plain": [
              "<Figure size 432x288 with 1 Axes>"
            ],
            "image/png": "[encoded data removed]"
          },
          "metadata": {
            "needs_background": "light"
          }
        },
        {
          "output_type": "display_data",
          "data": {
            "text/plain": [
              "<Figure size 432x288 with 1 Axes>"
            ],
            "image/png": "[encoded data removed]"
          },
          "metadata": {}
        }
      ]
    }
  ]
}